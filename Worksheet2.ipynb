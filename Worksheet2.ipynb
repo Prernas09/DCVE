{
 "cells": [
  {
   "cell_type": "markdown",
   "id": "a7954667-d4bb-498d-84c4-b344e11dfefe",
   "metadata": {},
   "source": [
    "Factorial \n",
    "\n",
    "5* 4* 3* 2* 1"
   ]
  },
  {
   "cell_type": "code",
   "execution_count": null,
   "id": "a611d5f9-67c9-44a7-8461-782a3b986ddc",
   "metadata": {},
   "outputs": [],
   "source": []
  },
  {
   "cell_type": "markdown",
   "id": "36967327-e033-4cdb-aa8e-9cef5a3ed6f2",
   "metadata": {},
   "source": [
    "Create a function squared(), which takes x and y as arguments and returns the x**y value. For e.g., if x = 2 and y = 3 , then the output is 8.\r\n",
    "\r\n",
    "\r\n",
    "\r\n",
    "Sample Input:\r\n",
    "\r\n",
    "['6','7']\r\n",
    "\r\n",
    "\r\n",
    "\r\n",
    "Sample Output:\r\n",
    "\r\n",
    "﻿279936"
   ]
  },
  {
   "cell_type": "code",
   "execution_count": null,
   "id": "0c7c4e7b-6a26-4c69-9966-0983dfe07414",
   "metadata": {},
   "outputs": [],
   "source": []
  },
  {
   "cell_type": "markdown",
   "id": "9a40047a-a16f-4cf3-bfef-70d20fb7d476",
   "metadata": {
    "scrolled": true
   },
   "source": [
    "Create a lambda function 'greater', which takes two arguments x and y and return x if x>y otherwise y.\r\n",
    "\r\n",
    "If x = 2 and y= 3, then the output should be 3.\r\n",
    "\r\n",
    "\r\n",
    "\r\n",
    "Sample Input:\r\n",
    "\r\n",
    "['9','3']\r\n",
    "\r\n",
    "\r\n",
    "\r\n",
    "Sample Output:\r\n",
    "\r\n",
    "﻿9"
   ]
  },
  {
   "cell_type": "code",
   "execution_count": null,
   "id": "76dc872e-872c-457d-87db-4c5a964fd036",
   "metadata": {},
   "outputs": [],
   "source": []
  },
  {
   "cell_type": "markdown",
   "id": "b8999592-34aa-445c-9deb-c2e0375774dc",
   "metadata": {},
   "source": [
    "countries = [ \"India\", \"Korea\", \"Canada\", \"Turkish\"]\n",
    "\n",
    "using map and lambda concept print elements of the list in uppercase."
   ]
  },
  {
   "cell_type": "code",
   "execution_count": null,
   "id": "e14929c1-89a9-42c9-9e5a-51acc3232e31",
   "metadata": {},
   "outputs": [],
   "source": []
  },
  {
   "cell_type": "markdown",
   "id": "ea480c27-ec27-4662-aa0d-f160ea880ad5",
   "metadata": {},
   "source": [
    "map function to create a list from a tuple with each of its elements squared."
   ]
  },
  {
   "cell_type": "code",
   "execution_count": null,
   "id": "2f44dcef-ca5b-4454-af58-8bc1320c2400",
   "metadata": {},
   "outputs": [],
   "source": []
  },
  {
   "cell_type": "markdown",
   "id": "7704e221-32d3-4998-a70e-8b62180bd917",
   "metadata": {},
   "source": [
    "using filter function print multiples of 4 between 2 to 100. Note: ouput should be in the form of list"
   ]
  },
  {
   "cell_type": "code",
   "execution_count": null,
   "id": "f6ee54ce-4d73-4022-bff5-e691c13e4597",
   "metadata": {},
   "outputs": [],
   "source": []
  },
  {
   "cell_type": "markdown",
   "id": "f2fa12cc-36b5-4efb-8cb2-57165f804e2d",
   "metadata": {},
   "source": [
    "the filter command was used to create an application that can count the number of students whose age is above 18."
   ]
  },
  {
   "cell_type": "code",
   "execution_count": null,
   "id": "b34f4035-e8f7-43e2-b38b-e4296d229302",
   "metadata": {},
   "outputs": [],
   "source": []
  }
 ],
 "metadata": {
  "kernelspec": {
   "display_name": "Python 3 (ipykernel)",
   "language": "python",
   "name": "python3"
  },
  "language_info": {
   "codemirror_mode": {
    "name": "ipython",
    "version": 3
   },
   "file_extension": ".py",
   "mimetype": "text/x-python",
   "name": "python",
   "nbconvert_exporter": "python",
   "pygments_lexer": "ipython3",
   "version": "3.12.4"
  }
 },
 "nbformat": 4,
 "nbformat_minor": 5
}
