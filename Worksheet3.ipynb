{
 "cells": [
  {
   "cell_type": "markdown",
   "id": "8d818800-915f-46ca-af60-f9f996703ea4",
   "metadata": {},
   "source": [
    "You are given a list of string elements and asked to return a list which contains each element of the string in title case or in other words first character of the string would be in upper case and remaining all characters in lower case\r\n",
    "\r\n",
    "Sample Input:\r\n",
    "\r\n",
    "['VARMA', 'raj', 'Gupta', 'SaNdeeP']\r\n",
    "\r\n",
    "Sample Output\r\n",
    "\r\n",
    "['Varma', 'Raj', 'Gupta', 'Sandeep']"
   ]
  },
  {
   "cell_type": "code",
   "execution_count": null,
   "id": "21e9c1e2-a53a-414c-bdec-fc9584e63547",
   "metadata": {},
   "outputs": [],
   "source": []
  },
  {
   "cell_type": "markdown",
   "id": "3d2627e8-ad90-4222-bd49-9b6ae17c7dc5",
   "metadata": {},
   "source": [
    "create a dictionary where the keys are multiples of 3 among the first 100 natural numbers and each value is the cube of the key.\r\n",
    "\r\n"
   ]
  },
  {
   "cell_type": "code",
   "execution_count": null,
   "id": "d51b119e-e4fa-4b69-85fc-2f15ba3d06f4",
   "metadata": {},
   "outputs": [],
   "source": []
  }
 ],
 "metadata": {
  "kernelspec": {
   "display_name": "Python 3 (ipykernel)",
   "language": "python",
   "name": "python3"
  },
  "language_info": {
   "codemirror_mode": {
    "name": "ipython",
    "version": 3
   },
   "file_extension": ".py",
   "mimetype": "text/x-python",
   "name": "python",
   "nbconvert_exporter": "python",
   "pygments_lexer": "ipython3",
   "version": "3.12.4"
  }
 },
 "nbformat": 4,
 "nbformat_minor": 5
}
