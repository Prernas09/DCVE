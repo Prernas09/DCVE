{
 "cells": [
  {
   "cell_type": "markdown",
   "id": "4ec1b504-dec4-407a-8c70-e9e31d1729d9",
   "metadata": {},
   "source": [
    "Extract the words that start with a vowel from a list input_list=[wood, old, apple, big, item, euphoria] using list comprehensions.\n",
    "\r\n",
    "\r\n",
    "Sample Inut:\r\n",
    "\r\n",
    "['wood','old','apple','big','item','eupha']\r\n",
    "\r\n",
    "\r\n",
    "\r\n",
    "Sampe Output:\r\n",
    "\r\n",
    "﻿['old', 'apple', 'item', 'euphoria']"
   ]
  },
  {
   "cell_type": "code",
   "execution_count": 41,
   "id": "a448d014-ae11-47f8-afea-80760bcd82d2",
   "metadata": {},
   "outputs": [
    {
     "name": "stdout",
     "output_type": "stream",
     "text": [
      "['old', 'apple', 'item', 'eupha']\n"
     ]
    }
   ],
   "source": [
    "list1 = ['wood','old','apple','big','item','eupha']\n",
    "vowels = ['a', 'e', 'i', 'o', 'u', 'A', 'E', 'I', 'O', 'U']\n",
    "result = [word for word in list1 if word[0] in vowels]\n",
    "# for word in list1:\n",
    "    # if word[0] in  vowels:\n",
    "        # print(word)\n",
    "        # result.append(word)\n",
    "    # else:\n",
    "    #     print('no')\n",
    "print(result)"
   ]
  },
  {
   "cell_type": "markdown",
   "id": "b9718a50-59ff-49ff-b6eb-54acb815ad16",
   "metadata": {},
   "source": [
    "You are given an integer 'n' as the input. Create a list comprehension containing the squares of the integers from 1 till n^2 (including 1 and n), and print the list. \r\n",
    "\r\n",
    "\r\n",
    "\r\n",
    "\r\n",
    "\r\n",
    "\r\n",
    "\r\n",
    "For example, if the input is 4, the output should be a list as follows:\r\n",
    "\r\n",
    "[1, 4, 9, 16]\r\n",
    "\r\n",
    "\r\n",
    "\r\n",
    "\r\n",
    "The input integer 'n' is stored in the variable 'n'.  variable 'n'. \n"
   ]
  },
  {
   "cell_type": "code",
   "execution_count": 49,
   "id": "6aba5aec-52df-45dc-9a8a-edabbc9665c2",
   "metadata": {},
   "outputs": [
    {
     "name": "stdin",
     "output_type": "stream",
     "text": [
      "Enter n 4\n"
     ]
    },
    {
     "name": "stdout",
     "output_type": "stream",
     "text": [
      "[1, 4, 9, 16]\n"
     ]
    }
   ],
   "source": [
    "n = input('Enter n')\n",
    "result2 = [i*i for i in range(1, int(n)+1)]\n",
    "# for i in range(1, int(n)+1):\n",
    "#     result2.append(i*i)\n",
    "print(result2)"
   ]
  }
 ],
 "metadata": {
  "kernelspec": {
   "display_name": "Python 3 (ipykernel)",
   "language": "python",
   "name": "python3"
  },
  "language_info": {
   "codemirror_mode": {
    "name": "ipython",
    "version": 3
   },
   "file_extension": ".py",
   "mimetype": "text/x-python",
   "name": "python",
   "nbconvert_exporter": "python",
   "pygments_lexer": "ipython3",
   "version": "3.12.4"
  }
 },
 "nbformat": 4,
 "nbformat_minor": 5
}
